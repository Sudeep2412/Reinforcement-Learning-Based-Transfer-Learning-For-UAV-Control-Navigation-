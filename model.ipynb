{
 "cells": [
  {
   "cell_type": "code",
   "execution_count": 12,
   "metadata": {},
   "outputs": [],
   "source": [
    "import torch\n",
    "from ultralytics import YOLO\n",
    "import control as ctrl\n",
    "import networkx as nx\n",
    "import matplotlib.pyplot as plt\n",
    "from scipy.spatial import KDTree\n",
    "import numpy as np\n",
    "import pandas as pd\n",
    "import os"
   ]
  },
  {
   "cell_type": "code",
   "execution_count": 13,
   "metadata": {},
   "outputs": [
    {
     "ename": "AttributeError",
     "evalue": "module 'torch._C' has no attribute '_cuda_setDevice'",
     "output_type": "error",
     "traceback": [
      "\u001b[31m---------------------------------------------------------------------------\u001b[39m",
      "\u001b[31mAttributeError\u001b[39m                            Traceback (most recent call last)",
      "\u001b[36mCell\u001b[39m\u001b[36m \u001b[39m\u001b[32mIn[13]\u001b[39m\u001b[32m, line 3\u001b[39m\n\u001b[32m      1\u001b[39m \u001b[38;5;66;03m# Ensure GPU is used if available\u001b[39;00m\n\u001b[32m      2\u001b[39m os.environ[\u001b[33m\"\u001b[39m\u001b[33mCUDA_VISIBLE_DEVICES\u001b[39m\u001b[33m\"\u001b[39m] = \u001b[33m\"\u001b[39m\u001b[33m0\u001b[39m\u001b[33m\"\u001b[39m\n\u001b[32m----> \u001b[39m\u001b[32m3\u001b[39m \u001b[43mtorch\u001b[49m\u001b[43m.\u001b[49m\u001b[43mcuda\u001b[49m\u001b[43m.\u001b[49m\u001b[43mset_device\u001b[49m\u001b[43m(\u001b[49m\u001b[32;43m0\u001b[39;49m\u001b[43m)\u001b[49m\n",
      "\u001b[36mFile \u001b[39m\u001b[32mc:\\Users\\sudee\\OneDrive\\Desktop\\Research\\myenv\\Lib\\site-packages\\torch\\cuda\\__init__.py:476\u001b[39m, in \u001b[36mset_device\u001b[39m\u001b[34m(device)\u001b[39m\n\u001b[32m    474\u001b[39m device = _get_device_index(device)\n\u001b[32m    475\u001b[39m \u001b[38;5;28;01mif\u001b[39;00m device >= \u001b[32m0\u001b[39m:\n\u001b[32m--> \u001b[39m\u001b[32m476\u001b[39m     \u001b[43mtorch\u001b[49m\u001b[43m.\u001b[49m\u001b[43m_C\u001b[49m\u001b[43m.\u001b[49m\u001b[43m_cuda_setDevice\u001b[49m(device)\n",
      "\u001b[31mAttributeError\u001b[39m: module 'torch._C' has no attribute '_cuda_setDevice'"
     ]
    }
   ],
   "source": [
    "# Ensure GPU is used if available\n",
    "os.environ[\"CUDA_VISIBLE_DEVICES\"] = \"0\"\n",
    "torch.cuda.set_device(0)"
   ]
  },
  {
   "cell_type": "code",
   "execution_count": null,
   "metadata": {},
   "outputs": [],
   "source": [
    "annotation_file = r\"C:\\Users\\sudee\\OneDrive\\Desktop\\Research\\train\\images\\train\\_annotations.csv\"\n",
    "\n",
    "\n",
    "# Load annotation data if available\n",
    "if os.path.exists(annotation_file):\n",
    "    annotations = pd.read_csv(annotation_file)\n",
    "else:\n",
    "    print(f\"Warning: Annotation file not found at {annotation_file}. Proceeding without annotations.\")\n",
    "    annotations = None"
   ]
  },
  {
   "cell_type": "code",
   "execution_count": null,
   "metadata": {},
   "outputs": [],
   "source": [
    "def train_object_detection():\n",
    "    \"\"\"Train YOLOv5 model on UAV dataset using folder of images.\"\"\"\n",
    "    model = YOLO(\"yolov5s.pt\")  # Load pretrained model\n",
    "    image_folder = \"C:\\\\Users\\\\sudee\\\\OneDrive\\\\Desktop\\\\Research\\\\train\\\\images\\\\train\"  # Folder containing training images\n",
    "    model.train(data=\"C:\\\\Users\\\\sudee\\\\OneDrive\\\\Desktop\\\\Research\\\\train\\\\dataset.yaml\", epochs=50, imgsz=640, device=0)\n",
    "    return model"
   ]
  },
  {
   "cell_type": "code",
   "execution_count": null,
   "metadata": {},
   "outputs": [],
   "source": [
    "def detect_objects(model, image_path):\n",
    "    \"\"\"Run inference using trained YOLO model.\"\"\"\n",
    "    results = model(image_path)\n",
    "    results.show()\n"
   ]
  },
  {
   "cell_type": "code",
   "execution_count": null,
   "metadata": {},
   "outputs": [],
   "source": [
    "def compute_hinf_transfer():\n",
    "    \"\"\"Compute H-infinity transfer function for UAV dynamics.\"\"\"\n",
    "    s = ctrl.TransferFunction.s\n",
    "    G1 = 4**2 / (s**2 + 2*0.7*4*s + 4**2)  # Source UAV\n",
    "    G2 = 1**2 / (s**2 + 2*0.8*1*s + 1**2)  # Target UAV\n",
    "    M = G1 * ctrl.minreal(ctrl.feedback(1, G2))\n",
    "    print(\"Computed H∞ Transfer Function:\", M)\n",
    "    return M\n"
   ]
  },
  {
   "cell_type": "code",
   "execution_count": null,
   "metadata": {},
   "outputs": [],
   "source": [
    "def a_star_path_planning(start, goal, obstacles, grid_size=(100, 100)):\n",
    "    \"\"\"Plan UAV path using A* algorithm.\"\"\"\n",
    "    G = nx.grid_2d_graph(*grid_size)\n",
    "    for obs in obstacles:\n",
    "        if obs in G:\n",
    "            G.remove_node(obs)\n",
    "    path = nx.astar_path(G, start, goal)\n",
    "    return path\n"
   ]
  },
  {
   "cell_type": "code",
   "execution_count": null,
   "metadata": {},
   "outputs": [],
   "source": [
    "def plot_uav_path(path, obstacles, start, goal):\n",
    "    \"\"\"Visualize UAV path.\"\"\"\n",
    "    plt.figure()\n",
    "    for obs in obstacles:\n",
    "        plt.scatter(*obs, color='red')\n",
    "    path_x, path_y = zip(*path)\n",
    "    plt.plot(path_x, path_y, linestyle='--', marker='o', color='blue')\n",
    "    plt.scatter(*start, color='green', label='Start')\n",
    "    plt.scatter(*goal, color='black', label='Goal')\n",
    "    plt.legend()\n",
    "    plt.title(\"UAV Path Planning with A*\")\n",
    "    plt.show()"
   ]
  },
  {
   "cell_type": "code",
   "execution_count": null,
   "metadata": {},
   "outputs": [],
   "source": [
    "def detect_objects(model, image_folder):\n",
    "    \"\"\"Run inference using trained YOLO model on all images in a folder.\"\"\"\n",
    "    for img_file in os.listdir(image_folder):\n",
    "        if img_file.lower().endswith((\".jpg\", \".png\", \".jpeg\")):  # Ensure it's an image\n",
    "            img_path = os.path.join(image_folder, img_file)\n",
    "            results = model(img_path)\n",
    "            results.show(\n",
    "                \n",
    "    detect_objects(model, \"C:\\\\Users\\\\sudee\\\\OneDrive\\\\Desktop\\\\Research\\\\train\\\\images\\\\test\"))"
   ]
  },
  {
   "cell_type": "code",
   "execution_count": null,
   "metadata": {},
   "outputs": [],
   "source": [
    "def main():\n",
    "    \"\"\"Main function to execute UAV detection and path planning.\"\"\"\n",
    "    # Train Object Detection Model\n",
    "    model = train_object_detection()\n",
    "    detect_objects(model, \"C:\\\\Users\\\\sudee\\\\OneDrive\\\\Desktop\\\\Research\\\\train\\\\images\\\\test\")\n",
    "    \n",
    "    # Compute H∞ Transfer Function\n",
    "    compute_hinf_transfer()\n",
    "    \n",
    "    # Plan UAV Path\n",
    "    obstacles = [(30, 30), (40, 50), (70, 80)]\n",
    "    start, goal = (10, 10), (90, 90)\n",
    "    path = a_star_path_planning(start, goal, obstacles)\n",
    "    print(\"Computed Path:\", path)\n",
    "    plot_uav_path(path, obstacles, start, goal)\n",
    "\n",
    "if __name__ == \"__main__\":\n",
    "    main()\n"
   ]
  },
  {
   "cell_type": "code",
   "execution_count": null,
   "metadata": {},
   "outputs": [],
   "source": []
  }
 ],
 "metadata": {
  "kernelspec": {
   "display_name": "myenv",
   "language": "python",
   "name": "python3"
  },
  "language_info": {
   "codemirror_mode": {
    "name": "ipython",
    "version": 3
   },
   "file_extension": ".py",
   "mimetype": "text/x-python",
   "name": "python",
   "nbconvert_exporter": "python",
   "pygments_lexer": "ipython3",
   "version": "3.13.2"
  }
 },
 "nbformat": 4,
 "nbformat_minor": 2
}
